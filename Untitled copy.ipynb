{
 "cells": [
  {
   "cell_type": "code",
   "execution_count": 2,
   "id": "b0c0b8a0-7c3a-4573-9e3b-770fdbac047d",
   "metadata": {},
   "outputs": [
    {
     "name": "stdout",
     "output_type": "stream",
     "text": [
      "63\n",
      "Chào đón\n",
      "SIÊU PHẨM CAO TẦNG ĐẦU TIÊN\n",
      "tại The Global City\n",
      "\n",
      "{'source': './mh_docs/masterigrandview.pdf', 'page': 0}\n"
     ]
    }
   ],
   "source": [
    "# https://medium.com/@onkarmishra/using-langchain-for-question-answering-on-own-data-3af0a82789ed\n",
    "# 1. Load document\n",
    "from langchain.document_loaders import PyPDFLoader\n",
    "loader = PyPDFLoader(\"./mh_docs/masterigrandview.pdf\")\n",
    "\n",
    "#Load the document by calling loader.load()\n",
    "pages = loader.load()"
   ]
  },
  {
   "cell_type": "code",
   "execution_count": 3,
   "id": "ed1a7359-6c1d-4df0-ae62-69730905c957",
   "metadata": {},
   "outputs": [
    {
     "data": {
      "text/plain": [
       "62"
      ]
     },
     "execution_count": 3,
     "metadata": {},
     "output_type": "execute_result"
    }
   ],
   "source": [
    "# 2. Splitter\n",
    "from langchain.text_splitter import CharacterTextSplitter\n",
    "text_splitter = CharacterTextSplitter(\n",
    "    separator=\"\\n\",\n",
    "    chunk_size=1000,\n",
    "    chunk_overlap=150,\n",
    "    length_function=len\n",
    ")\n",
    "\n",
    "docs = text_splitter.split_documents(pages)"
   ]
  },
  {
   "cell_type": "code",
   "execution_count": 4,
   "id": "66f4a6d9-a32d-4fc2-b0a1-c0eaa3bbb2d2",
   "metadata": {},
   "outputs": [
    {
     "name": "stdout",
     "output_type": "stream",
     "text": [
      "310\n"
     ]
    }
   ],
   "source": [
    "# 3. Vector store\n",
    "from langchain_community.vectorstores.chroma import Chroma\n",
    "from langchain_openai import OpenAIEmbeddings\n",
    "from dotenv import load_dotenv\n",
    "import getpass\n",
    "import os\n",
    "\n",
    "load_dotenv()\n",
    "\n",
    "if not os.getenv(\"OPENAI_API_KEY\"):\n",
    "    os.environ[\"OPENAI_API_KEY\"] = getpass.getpass(\"Enter your OpenAI API key: \")\n",
    "\n",
    "os.environ[\"LANGSMITH_TRACING_V2\"] = \"true\"\n",
    "if not os.getenv(\"LANGSMITH_API_KEY\"):\n",
    "    os.environ[\"LANGSMITH_API_KEY\"] = getpass.getpass()\n",
    "\n",
    "embeddings = OpenAIEmbeddings(\n",
    "    model=\"text-embedding-3-large\",\n",
    ")\n",
    "\n",
    "persist_directory = './docs/chroma/'\n",
    "\n",
    "# Create the vector store\n",
    "vectordb = Chroma.from_documents(\n",
    "    documents=docs,\n",
    "    embedding=embeddings,\n",
    "    persist_directory=persist_directory\n",
    ")"
   ]
  },
  {
   "cell_type": "code",
   "execution_count": 5,
   "id": "2feeddc9",
   "metadata": {},
   "outputs": [],
   "source": [
    "from langchain_openai import ChatOpenAI\n",
    "llm = ChatOpenAI(model_name=\"gpt-4o-mini\", temperature=0)"
   ]
  },
  {
   "cell_type": "code",
   "execution_count": 6,
   "id": "8a9c4a6a-0dfc-4cea-8a9c-45f6dda17afa",
   "metadata": {},
   "outputs": [],
   "source": [
    "# Memory\n",
    "from langchain_core.tools import tool\n",
    "from langgraph.graph import MessagesState, StateGraph\n",
    "\n",
    "graph_builder = StateGraph(MessagesState)\n",
    "\n",
    "@tool(response_format=\"content_and_artifact\")\n",
    "def retrieve(query: str):\n",
    "    \"\"\"Retrieve information related to a query.\"\"\"\n",
    "    retrieved_docs = vectordb.similarity_search(query, k=2)\n",
    "    serialized = \"\\n\\n\".join(\n",
    "        (f\"Source: {doc.metadata}\\n\" f\"Content: {doc.page_content}\")\n",
    "        for doc in retrieved_docs\n",
    "    )\n",
    "    return serialized, retrieved_docs"
   ]
  },
  {
   "cell_type": "code",
   "execution_count": 7,
   "id": "57165b1b-ef1b-4704-81b9-5a0d74f90537",
   "metadata": {},
   "outputs": [],
   "source": [
    "from langchain_core.messages import SystemMessage\n",
    "from langgraph.prebuilt import ToolNode\n",
    "\n",
    "# Step 1: Generate an AIMessage that may include a tool-call to be sent.\n",
    "def query_or_respond(state: MessagesState):\n",
    "    \"\"\"Generate tool call for retrieval or respond.\"\"\"\n",
    "    llm_with_tools = llm.bind_tools([retrieve])\n",
    "    response = llm_with_tools.invoke(state[\"messages\"])\n",
    "    # MessagesState appends messages to state instead of overwriting\n",
    "    return {\"messages\": [response]}\n",
    "\n",
    "# Step 2: Execute the retrieval.\n",
    "tools = ToolNode([retrieve])\n",
    "\n",
    "# Step 3: Generate a response using the retrieved content.\n",
    "def generate(state: MessagesState):\n",
    "    \"\"\"Generate answer.\"\"\"\n",
    "    # Get generated ToolMessages\n",
    "    recent_tool_messages = []\n",
    "    for message in reversed(state[\"messages\"]):\n",
    "        if message.type == \"tool\":\n",
    "            recent_tool_messages.append(message)\n",
    "        else:\n",
    "            break\n",
    "    tool_messages = recent_tool_messages[::-1]\n",
    "\n",
    "    # Format into prompt\n",
    "    docs_content = \"\\n\\n\".join(doc.content for doc in tool_messages)\n",
    "    system_message_content = (\n",
    "        \"Bạn là nhân viên chăm sóc khách hàng của Masterise Homes và bạn sẽ trả lời các câu hỏi của khách hàng về Công ty cũng như các dự án thuộc Công ty.\"\n",
    "        \"Hãy dùng đại từ xưng hô gọi khách hàng là Anh/Chị, còn bạn dùng đại từ xưng hô là Em.\"\n",
    "        \"Hãy trả lời câu hỏi của khách hàng một cách lịch sự và tôn trọng.\"\n",
    "        \"Trong trường hợp khách hàng hỏi những câu hỏi không liên quan đến Công ty và dự án, hãy từ chối trả lời một cách lịch sự.\"\n",
    "        \"Không bao giờ được hỏi khách hỏi xong chưa và xin phép dừng cuộc hội thoại\"\n",
    "        \"\\n\\n\"\n",
    "        f\"{docs_content}\"\n",
    "    )\n",
    "    conversation_messages = [\n",
    "        message\n",
    "        for message in state[\"messages\"]\n",
    "        if message.type in (\"human\", \"system\")\n",
    "        or (message.type == \"ai\" and not message.tool_calls)\n",
    "    ]\n",
    "    prompt = [SystemMessage(system_message_content)] + conversation_messages\n",
    "\n",
    "    # Run\n",
    "    response = llm.invoke(prompt)\n",
    "    return {\"messages\": [response]}"
   ]
  },
  {
   "cell_type": "code",
   "execution_count": 8,
   "id": "43c6497c-eb19-40b2-b69d-fbfb1fa1552e",
   "metadata": {},
   "outputs": [],
   "source": [
    "from langgraph.graph import END\n",
    "from langgraph.prebuilt import ToolNode, tools_condition\n",
    "from langgraph.checkpoint.memory import MemorySaver\n",
    "\n",
    "graph_builder.add_node(query_or_respond)\n",
    "graph_builder.add_node(tools)\n",
    "graph_builder.add_node(generate)\n",
    "\n",
    "graph_builder.set_entry_point(\"query_or_respond\")\n",
    "graph_builder.add_conditional_edges(\n",
    "    \"query_or_respond\",\n",
    "    tools_condition,\n",
    "    {END: END, \"tools\": \"tools\"},\n",
    ")\n",
    "graph_builder.add_edge(\"tools\", \"generate\")\n",
    "graph_builder.add_edge(\"generate\", END)\n",
    "memory = MemorySaver()\n",
    "graph = graph_builder.compile(checkpointer=memory)"
   ]
  },
  {
   "cell_type": "code",
   "execution_count": 14,
   "id": "e1765225-8322-48d7-b02d-cf8d0d9ea664",
   "metadata": {},
   "outputs": [
    {
     "name": "stdout",
     "output_type": "stream",
     "text": [
      "content='Giới thiệu về dự án Masteri Grand View' additional_kwargs={} response_metadata={} id='713b7542-d94e-4d28-ad72-5a0b3ade1355'\n",
      "content='' additional_kwargs={'tool_calls': [{'id': 'call_952cJtf1SzaPA0e0DVQcHR0R', 'function': {'arguments': '{\"query\":\"dự án Masteri Grand View\"}', 'name': 'retrieve'}, 'type': 'function'}], 'refusal': None} response_metadata={'token_usage': {'completion_tokens': 19, 'prompt_tokens': 2919, 'total_tokens': 2938, 'completion_tokens_details': {'accepted_prediction_tokens': 0, 'audio_tokens': 0, 'reasoning_tokens': 0, 'rejected_prediction_tokens': 0}, 'prompt_tokens_details': {'audio_tokens': 0, 'cached_tokens': 1920}}, 'model_name': 'gpt-4o-mini-2024-07-18', 'system_fingerprint': 'fp_0705bf87c0', 'finish_reason': 'tool_calls', 'logprobs': None} id='run-af59377a-1fd7-41f8-a81b-816dcf031c70-0' tool_calls=[{'name': 'retrieve', 'args': {'query': 'dự án Masteri Grand View'}, 'id': 'call_952cJtf1SzaPA0e0DVQcHR0R', 'type': 'tool_call'}] usage_metadata={'input_tokens': 2919, 'output_tokens': 19, 'total_tokens': 2938, 'input_token_details': {'audio': 0, 'cache_read': 1920}, 'output_token_details': {'audio': 0, 'reasoning': 0}}\n",
      "content=\"Source: {'page': 61, 'source': './mh_docs/masterigrandview.pdf'}\\nContent: NHỮNG LÝ DO KHIẾN MASTERI GRAND VIEW \\nTRỞ THÀNH LỰA CHỌN HÀNG ĐẦU\\n1.\\n2.\\n3.\\n4.\\n5.\\n6.\\nTỌA LẠC TRONG KHU ĐÔ THỊ 117.4HA –\\nTHE GLOBAL CITY –\\nQUỸ ĐẤT VÀNG TẠI P. AN PHÚ\\nLÀ SIÊU PHẨM CAO TẦNG ĐẦU \\nTIÊN \\nTẠI TRUNG TÂM MỚI\\nVỊ TRÍ KIM CƯƠNG TẠI GIAO \\nĐIỂM ĐA SẮC MÀU\\nĐƯỢC PHÁT TRIỂN BỞI CÁC \\nTÊN TUỔI HÀNG ĐẦU THẾ GIỚI\\nTHỜI ĐIỂM VÀNG ĐỂ SỞ HỮU \\nNHỮNG CĂN HỘ ĐẦU TIÊN TẠI THE \\nGLOBAL CITY\\nTHỪA HƯỞNG TOÀN BỘ HỆ TIỆN \\nÍCH ĐỈNH CAO CỦA \\nTHE GLOBAL CITY\\n7.\\n8.\\nSỞ HỮU LOẠI HÌNH 4PN CỰC KHAN \\nHIẾM TRÊN THỊ TRƯỜNG\\nMỖI SÀN CHỈ 8CĂN\\n\\nSource: {'page': 61, 'source': './mh_docs/masterigrandview.pdf'}\\nContent: NHỮNG LÝ DO KHIẾN MASTERI GRAND VIEW \\nTRỞ THÀNH LỰA CHỌN HÀNG ĐẦU\\n1.\\n2.\\n3.\\n4.\\n5.\\n6.\\nTỌA LẠC TRONG KHU ĐÔ THỊ 117.4HA –\\nTHE GLOBAL CITY –\\nQUỸ ĐẤT VÀNG TẠI P. AN PHÚ\\nLÀ SIÊU PHẨM CAO TẦNG ĐẦU \\nTIÊN \\nTẠI TRUNG TÂM MỚI\\nVỊ TRÍ KIM CƯƠNG TẠI GIAO \\nĐIỂM ĐA SẮC MÀU\\nĐƯỢC PHÁT TRIỂN BỞI CÁC \\nTÊN TUỔI HÀNG ĐẦU THẾ GIỚI\\nTHỜI ĐIỂM VÀNG ĐỂ SỞ HỮU \\nNHỮNG CĂN HỘ ĐẦU TIÊN TẠI THE \\nGLOBAL CITY\\nTHỪA HƯỞNG TOÀN BỘ HỆ TIỆN \\nÍCH ĐỈNH CAO CỦA \\nTHE GLOBAL CITY\\n7.\\n8.\\nSỞ HỮU LOẠI HÌNH 4PN CỰC KHAN \\nHIẾM TRÊN THỊ TRƯỜNG\\nMỖI SÀN CHỈ 8CĂN\" name='retrieve' id='dc355841-f237-474c-8ada-845390885455' tool_call_id='call_952cJtf1SzaPA0e0DVQcHR0R' artifact=[Document(metadata={'page': 61, 'source': './mh_docs/masterigrandview.pdf'}, page_content='NHỮNG LÝ DO KHIẾN MASTERI GRAND VIEW \\nTRỞ THÀNH LỰA CHỌN HÀNG ĐẦU\\n1.\\n2.\\n3.\\n4.\\n5.\\n6.\\nTỌA LẠC TRONG KHU ĐÔ THỊ 117.4HA –\\nTHE GLOBAL CITY –\\nQUỸ ĐẤT VÀNG TẠI P. AN PHÚ\\nLÀ SIÊU PHẨM CAO TẦNG ĐẦU \\nTIÊN \\nTẠI TRUNG TÂM MỚI\\nVỊ TRÍ KIM CƯƠNG TẠI GIAO \\nĐIỂM ĐA SẮC MÀU\\nĐƯỢC PHÁT TRIỂN BỞI CÁC \\nTÊN TUỔI HÀNG ĐẦU THẾ GIỚI\\nTHỜI ĐIỂM VÀNG ĐỂ SỞ HỮU \\nNHỮNG CĂN HỘ ĐẦU TIÊN TẠI THE \\nGLOBAL CITY\\nTHỪA HƯỞNG TOÀN BỘ HỆ TIỆN \\nÍCH ĐỈNH CAO CỦA \\nTHE GLOBAL CITY\\n7.\\n8.\\nSỞ HỮU LOẠI HÌNH 4PN CỰC KHAN \\nHIẾM TRÊN THỊ TRƯỜNG\\nMỖI SÀN CHỈ 8CĂN'), Document(metadata={'page': 61, 'source': './mh_docs/masterigrandview.pdf'}, page_content='NHỮNG LÝ DO KHIẾN MASTERI GRAND VIEW \\nTRỞ THÀNH LỰA CHỌN HÀNG ĐẦU\\n1.\\n2.\\n3.\\n4.\\n5.\\n6.\\nTỌA LẠC TRONG KHU ĐÔ THỊ 117.4HA –\\nTHE GLOBAL CITY –\\nQUỸ ĐẤT VÀNG TẠI P. AN PHÚ\\nLÀ SIÊU PHẨM CAO TẦNG ĐẦU \\nTIÊN \\nTẠI TRUNG TÂM MỚI\\nVỊ TRÍ KIM CƯƠNG TẠI GIAO \\nĐIỂM ĐA SẮC MÀU\\nĐƯỢC PHÁT TRIỂN BỞI CÁC \\nTÊN TUỔI HÀNG ĐẦU THẾ GIỚI\\nTHỜI ĐIỂM VÀNG ĐỂ SỞ HỮU \\nNHỮNG CĂN HỘ ĐẦU TIÊN TẠI THE \\nGLOBAL CITY\\nTHỪA HƯỞNG TOÀN BỘ HỆ TIỆN \\nÍCH ĐỈNH CAO CỦA \\nTHE GLOBAL CITY\\n7.\\n8.\\nSỞ HỮU LOẠI HÌNH 4PN CỰC KHAN \\nHIẾM TRÊN THỊ TRƯỜNG\\nMỖI SÀN CHỈ 8CĂN')]\n",
      "content='Dạ, chào Anh/Chị! Dự án Masteri Grand View là một trong những dự án nổi bật của Masterise Homes, tọa lạc trong khu đô thị 117.4ha – The Global City, tại phường An Phú. Đây là siêu phẩm cao tầng đầu tiên tại trung tâm mới, với vị trí kim cương tại giao điểm đa sắc màu.\\n\\nDự án được phát triển bởi các tên tuổi hàng đầu thế giới, mang đến cho cư dân một không gian sống đẳng cấp và tiện nghi. Masteri Grand View không chỉ là nơi an cư lý tưởng mà còn là cơ hội đầu tư hấp dẫn, với thời điểm vàng để sở hữu những căn hộ đầu tiên tại The Global City.\\n\\nNgoài ra, dự án còn thừa hưởng toàn bộ hệ tiện ích đỉnh cao của The Global City, cùng với loại hình căn hộ 4 phòng ngủ cực kỳ khan hiếm trên thị trường, với mỗi sàn chỉ có 8 căn. Nếu Anh/Chị cần thêm thông tin chi tiết nào khác, em rất sẵn lòng hỗ trợ!' additional_kwargs={'refusal': None} response_metadata={'token_usage': {'completion_tokens': 227, 'prompt_tokens': 1590, 'total_tokens': 1817, 'completion_tokens_details': {'accepted_prediction_tokens': 0, 'audio_tokens': 0, 'reasoning_tokens': 0, 'rejected_prediction_tokens': 0}, 'prompt_tokens_details': {'audio_tokens': 0, 'cached_tokens': 1408}}, 'model_name': 'gpt-4o-mini-2024-07-18', 'system_fingerprint': 'fp_0705bf87c0', 'finish_reason': 'stop', 'logprobs': None} id='run-e81c900e-e644-495d-9d96-31a4639e2bc2-0' usage_metadata={'input_tokens': 1590, 'output_tokens': 227, 'total_tokens': 1817, 'input_token_details': {'audio': 0, 'cache_read': 1408}, 'output_token_details': {'audio': 0, 'reasoning': 0}}\n"
     ]
    }
   ],
   "source": [
    "input_message = \"Giới thiệu về dự án Masteri Grand View\"\n",
    "config = {\"configurable\": {\"thread_id\": \"abc123\"}}\n",
    "\n",
    "for step in graph.stream(\n",
    "    {\"messages\": [{\"role\": \"user\", \"content\": input_message}]},\n",
    "    stream_mode=\"values\",\n",
    "    config=config,\n",
    "):\n",
    "    print(step[\"messages\"][-1])"
   ]
  },
  {
   "cell_type": "code",
   "execution_count": 31,
   "id": "6c5918da-315f-412f-ba6b-4e61ad4f5096",
   "metadata": {},
   "outputs": [
    {
     "data": {
      "text/plain": [
       "'Dạ, chào Anh/Chị! Dự án Masteri Grand View là một trong những sản phẩm nổi bật của Masterise Homes, tọa lạc trong khu đô thị 117.4ha – The Global City, tại phường An Phú. Đây là siêu phẩm cao tầng đầu tiên tại trung tâm mới, với vị trí kim cương tại giao điểm đa sắc màu.\\n\\nDự án được phát triển bởi các tên tuổi hàng đầu thế giới, mang đến cho cư dân một không gian sống đẳng cấp và tiện nghi. Masteri Grand View không chỉ là nơi an cư lý tưởng mà còn là cơ hội đầu tư hấp dẫn, với thời điểm vàng để sở hữu những căn hộ đầu tiên tại The Global City.\\n\\nNgoài ra, dự án còn thừa hưởng toàn bộ hệ tiện ích đỉnh cao của The Global City, cùng với loại hình căn hộ 4 phòng ngủ cực kỳ khan hiếm trên thị trường, với mỗi sàn chỉ có 8 căn. Nếu Anh/Chị cần thêm thông tin chi tiết nào khác, em rất sẵn lòng hỗ trợ!'"
      ]
     },
     "execution_count": 31,
     "metadata": {},
     "output_type": "execute_result"
    }
   ],
   "source": [
    "response = await graph.ainvoke({\"messages\": [{\"role\": \"user\", \"content\": input_message}]},\n",
    "    config=config)\n",
    "response[\"messages\"][-1].content"
   ]
  },
  {
   "cell_type": "code",
   "execution_count": null,
   "id": "9430fc4e-87df-44c0-adf7-12e7ffd75bc8",
   "metadata": {},
   "outputs": [],
   "source": []
  }
 ],
 "metadata": {
  "kernelspec": {
   "display_name": "Python 3 (ipykernel)",
   "language": "python",
   "name": "python3"
  },
  "language_info": {
   "codemirror_mode": {
    "name": "ipython",
    "version": 3
   },
   "file_extension": ".py",
   "mimetype": "text/x-python",
   "name": "python",
   "nbconvert_exporter": "python",
   "pygments_lexer": "ipython3",
   "version": "3.9.20"
  }
 },
 "nbformat": 4,
 "nbformat_minor": 5
}
