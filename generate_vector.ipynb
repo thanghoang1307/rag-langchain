{
 "cells": [
  {
   "cell_type": "code",
   "execution_count": 3,
   "id": "26583d3c-e054-47b9-b84d-c877a37e558d",
   "metadata": {},
   "outputs": [],
   "source": [
    "async def generateVector():\n",
    "    try:\n",
    "        loader = PyPDFLoader(\"./mh_docs/masterigrandview.pdf\")\n",
    "        pages = loader.load()\n",
    "        len(pages)\n",
    "\n",
    "        # 2. Splitter\n",
    "        text_splitter = CharacterTextSplitter(\n",
    "            separator=\"\\n\",\n",
    "            chunk_size=1000,\n",
    "            chunk_overlap=150,\n",
    "            length_function=len\n",
    "        )\n",
    "\n",
    "        docs = text_splitter.split_documents(pages)\n",
    "        embeddings = OpenAIEmbeddings(\n",
    "        model=\"text-embedding-3-large\",\n",
    "        )\n",
    "\n",
    "        persist_directory = './docs/chroma/'\n",
    "\n",
    "        vectordb = Chroma.from_documents(\n",
    "            documents=docs,\n",
    "            embedding=embeddings,\n",
    "            persist_directory=persist_directory\n",
    "        )\n",
    "\n",
    "        return {\"message\": 'done'}\n",
    "    except Exception as e:\n",
    "        return {\"error\": str(e)}"
   ]
  },
  {
   "cell_type": "code",
   "execution_count": null,
   "id": "2eb020e8-3fb3-4cba-8bd4-c13407cd00ef",
   "metadata": {},
   "outputs": [],
   "source": []
  }
 ],
 "metadata": {
  "kernelspec": {
   "display_name": "Python 3 (ipykernel)",
   "language": "python",
   "name": "python3"
  },
  "language_info": {
   "codemirror_mode": {
    "name": "ipython",
    "version": 3
   },
   "file_extension": ".py",
   "mimetype": "text/x-python",
   "name": "python",
   "nbconvert_exporter": "python",
   "pygments_lexer": "ipython3",
   "version": "3.11.10"
  }
 },
 "nbformat": 4,
 "nbformat_minor": 5
}
