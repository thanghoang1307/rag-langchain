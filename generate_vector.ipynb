{
 "cells": [
  {
   "cell_type": "code",
   "execution_count": 1,
   "id": "26583d3c-e054-47b9-b84d-c877a37e558d",
   "metadata": {},
   "outputs": [
    {
     "data": {
      "text/plain": [
       "62"
      ]
     },
     "execution_count": 1,
     "metadata": {},
     "output_type": "execute_result"
    }
   ],
   "source": [
    "from langchain_community.document_loaders import PyPDFLoader\n",
    "from langchain_chroma import Chroma\n",
    "from langchain_openai import OpenAIEmbeddings\n",
    "from langchain.text_splitter import CharacterTextSplitter\n",
    "from langchain_text_splitters import RecursiveCharacterTextSplitter\n",
    "from dotenv import load_dotenv\n",
    "import os\n",
    "import getpass\n",
    "\n",
    "load_dotenv()\n",
    "if not os.getenv(\"OPENAI_API_KEY\"):\n",
    "    os.environ[\"OPENAI_API_KEY\"] = getpass.getpass(\"Enter your OpenAI API key: \")\n",
    "\n",
    "os.environ[\"LANGSMITH_TRACING_V2\"] = \"true\"\n",
    "if not os.getenv(\"LANGSMITH_API_KEY\"):\n",
    "    os.environ[\"LANGSMITH_API_KEY\"] = getpass.getpass(\"Enter your LangSmith API key: \")\n",
    "    \n",
    "loader = PyPDFLoader(\"./mh_docs/masterigrandview.pdf\")\n",
    "pages = loader.load()\n",
    "len(pages)\n",
    "\n",
    "# 2. Splitter\n",
    "text_splitter = CharacterTextSplitter(\n",
    "    separator=\"\\n\",\n",
    "    chunk_size=1000,\n",
    "    chunk_overlap=150,\n",
    "    length_function=len\n",
    ")\n",
    "\n",
    "docs = text_splitter.split_documents(pages)\n",
    "embeddings = OpenAIEmbeddings(\n",
    "model=\"text-embedding-3-large\",\n",
    ")\n",
    "\n",
    "persist_directory = './docs/chroma/'\n",
    "\n",
    "vectordb = Chroma.from_documents(\n",
    "    documents=docs,\n",
    "    embedding=embeddings,\n",
    "    persist_directory=persist_directory\n",
    ")\n",
    "len(pages)\n",
    "len(docs)"
   ]
  },
  {
   "cell_type": "code",
   "execution_count": 2,
   "id": "2eb020e8-3fb3-4cba-8bd4-c13407cd00ef",
   "metadata": {},
   "outputs": [],
   "source": [
    "import getpass\n",
    "\n",
    "query = \"Dự án khi nào bàn giao\" # Thời gian bàn giao dự kiến thì tìm đúng thông tin, Hỏi thời gian bàn giao thì không chính xác\n",
    "retrieved_docs = vectordb.similarity_search(query, k=2)\n",
    "serialized = \"\\n\\n\".join(\n",
    "    (f\"Source: {doc.metadata}\\n\" f\"Content: {doc.page_content}\")\n",
    "    for doc in retrieved_docs\n",
    ")"
   ]
  },
  {
   "cell_type": "code",
   "execution_count": 3,
   "id": "d7d5d66f-183c-42c7-a21e-dc1c974c4342",
   "metadata": {},
   "outputs": [
    {
     "name": "stdout",
     "output_type": "stream",
     "text": [
      "[Document(metadata={'page': 4, 'source': './mh_docs/masterigrandview.pdf'}, page_content='HẠ TẦNG ĐỒNG BỘ - HOÀN CHỈNH\\n'), Document(metadata={'page': 4, 'source': './mh_docs/masterigrandview.pdf'}, page_content='HẠ TẦNG ĐỒNG BỘ - HOÀN CHỈNH\\n')]\n"
     ]
    }
   ],
   "source": [
    "print(retrieved_docs)"
   ]
  },
  {
   "cell_type": "code",
   "execution_count": 4,
   "id": "63e99b12-db85-4e83-9e97-fa2c7ea0697d",
   "metadata": {},
   "outputs": [
    {
     "name": "stdout",
     "output_type": "stream",
     "text": [
      "Source: {'page': 4, 'source': './mh_docs/masterigrandview.pdf'}\n",
      "Content: HẠ TẦNG ĐỒNG BỘ - HOÀN CHỈNH\n",
      "\n",
      "\n",
      "Source: {'page': 4, 'source': './mh_docs/masterigrandview.pdf'}\n",
      "Content: HẠ TẦNG ĐỒNG BỘ - HOÀN CHỈNH\n",
      "\n"
     ]
    }
   ],
   "source": [
    "print(serialized)"
   ]
  },
  {
   "cell_type": "code",
   "execution_count": null,
   "id": "9c7eadf8-90e9-4072-b74a-b6523030bc46",
   "metadata": {},
   "outputs": [],
   "source": []
  }
 ],
 "metadata": {
  "kernelspec": {
   "display_name": "Python 3 (ipykernel)",
   "language": "python",
   "name": "python3"
  },
  "language_info": {
   "codemirror_mode": {
    "name": "ipython",
    "version": 3
   },
   "file_extension": ".py",
   "mimetype": "text/x-python",
   "name": "python",
   "nbconvert_exporter": "python",
   "pygments_lexer": "ipython3",
   "version": "3.11.10"
  }
 },
 "nbformat": 4,
 "nbformat_minor": 5
}
