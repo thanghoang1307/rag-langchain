{
 "cells": [
  {
   "cell_type": "code",
   "execution_count": 17,
   "id": "21888c0c-e961-4e50-b4d8-523ecc29282e",
   "metadata": {},
   "outputs": [
    {
     "name": "stdout",
     "output_type": "stream",
     "text": [
      "Loaded OPENAI & LANGSMITH variables\n"
     ]
    }
   ],
   "source": [
    "# Load env in local\n",
    "from dotenv import load_dotenv\n",
    "import os\n",
    "import getpass\n",
    "\n",
    "load_dotenv()\n",
    "\n",
    "if not os.getenv(\"OPENAI_API_KEY\"):\n",
    "    os.environ[\"OPENAI_API_KEY\"] = getpass.getpass(\"Enter your OpenAI API key: \")\n",
    "\n",
    "os.environ[\"LANGSMITH_TRACING_V2\"] = \"true\"\n",
    "if not os.getenv(\"LANGSMITH_API_KEY\"):\n",
    "    os.environ[\"LANGSMITH_API_KEY\"] = getpass.getpass(\"Enter your LangSmith API key: \")\n",
    "    \n",
    "print(\"Loaded OPENAI & LANGSMITH variables\")"
   ]
  },
  {
   "cell_type": "code",
   "execution_count": 18,
   "id": "9fe18ee3-cd8c-479b-b7a1-d891eefa095c",
   "metadata": {},
   "outputs": [
    {
     "name": "stdout",
     "output_type": "stream",
     "text": [
      "Loaded existing vector store.\n"
     ]
    }
   ],
   "source": [
    "# Load vectordb\n",
    "from langchain_chroma import Chroma\n",
    "from langchain_openai import OpenAIEmbeddings\n",
    "\n",
    "embeddings = OpenAIEmbeddings(\n",
    "    model=\"text-embedding-3-large\",\n",
    ")\n",
    "\n",
    "persist_directory = '../docs/chroma/'\n",
    "\n",
    "vectordb = Chroma(persist_directory=persist_directory, embedding_function=embeddings)\n",
    "print(\"Loaded existing vector store.\")"
   ]
  },
  {
   "cell_type": "code",
   "execution_count": 19,
   "id": "84cb962b-91ca-4036-8318-d35d349b903c",
   "metadata": {},
   "outputs": [],
   "source": [
    "# Load LLM\n",
    "from langchain_openai import ChatOpenAI\n",
    "\n",
    "llm = ChatOpenAI(model_name=\"gpt-4o-mini\", temperature=0)"
   ]
  },
  {
   "cell_type": "code",
   "execution_count": 20,
   "id": "a7cfe688-5737-4bf6-9188-c3bd3f8b3605",
   "metadata": {},
   "outputs": [],
   "source": [
    "# Init graph_builder\n",
    "from langgraph.graph import MessagesState, StateGraph\n",
    "graph_builder = StateGraph(MessagesState)"
   ]
  },
  {
   "cell_type": "code",
   "execution_count": 21,
   "id": "bc367da6-0344-48fa-a603-324f6a72197e",
   "metadata": {},
   "outputs": [],
   "source": [
    "from langchain_core.tools import tool\n",
    "from langgraph.graph import MessagesState, StateGraph\n",
    "from langchain_core.messages import SystemMessage\n",
    "from langgraph.prebuilt import ToolNode\n",
    "\n",
    "# Step 3: Generate a response using the retrieved content.\n",
    "def generate(state: MessagesState):\n",
    "    \"\"\"Generate answer.\"\"\"\n",
    "    # Get generated ToolMessages\n",
    "    query = state[\"messages\"][-1].content\n",
    "    retrieved_docs = vectordb.similarity_search(query, k=2)\n",
    "    \n",
    "    # Format into prompt\n",
    "    docs_content = \"\\n\\n\".join(doc.page_content for doc in retrieved_docs)\n",
    "    system_message_content = (\n",
    "        \"Bạn là nhân viên chăm sóc khách hàng của dự án Masteri Grand View và bạn sẽ trả lời các câu hỏi của khách hàng về dự án Masteri Grand View.\"\n",
    "        \"Hãy dùng đại từ xưng hô gọi khách hàng là Anh/Chị, còn bạn dùng đại từ xưng hô là Em.\"\n",
    "        \"Hãy trả lời câu hỏi của khách hàng một cách lịch sự và tôn trọng.\"\n",
    "        \"Chỉ dựa trên thông tin trong tài liệu dự án Masteri Grand View bên dưới, trả lời câu hỏi:\"\n",
    "        \"\\n\\n\"\n",
    "        f\"{docs_content}\"\n",
    "        \"\\n\\n\"\n",
    "        \"Trong trường hợp khách hàng hỏi những câu hỏi không liên quan đến Công ty và dự án, hãy từ chối trả lời một cách lịch sự.\"\n",
    "        \"Nếu thông tin không có trong tài liệu, hãy trả lời với khách hàng rằng thông tin này bạn không rõ và nói khách hàng gọi cho bộ phận kinh doanh\"\n",
    "        \"Không bao giờ sáng tạo nội dung\"\n",
    "    )\n",
    "    conversation_messages = [\n",
    "        message\n",
    "        for message in state[\"messages\"]\n",
    "    ]\n",
    "    prompt = [SystemMessage(system_message_content)] + conversation_messages\n",
    "\n",
    "    # Run\n",
    "    response = llm.invoke(prompt)\n",
    "    return {\"messages\": [response]}"
   ]
  },
  {
   "cell_type": "code",
   "execution_count": 23,
   "id": "a62baf1e-895e-4563-8717-5676683d0cb4",
   "metadata": {},
   "outputs": [],
   "source": [
    "from langgraph.graph import END\n",
    "from langgraph.prebuilt import tools_condition\n",
    "from langgraph.checkpoint.memory import MemorySaver\n",
    "\n",
    "# Graph builder\n",
    "\n",
    "\n",
    "graph_builder.add_node(generate)\n",
    "\n",
    "graph_builder.set_entry_point(\"generate\")\n",
    "graph_builder.add_edge(\"generate\", END)\n",
    "# memory = MemorySaver()\n",
    "# graph = graph_builder.compile(checkpointer=memory)\n",
    "graph = graph_builder.compile()"
   ]
  },
  {
   "cell_type": "code",
   "execution_count": 29,
   "id": "0a7b3fb3-c56c-4512-a9fc-5faf097d655c",
   "metadata": {},
   "outputs": [
    {
     "name": "stdout",
     "output_type": "stream",
     "text": [
      "Dạ, Anh/Chị, trong dự án của Masterise Homes có tổng cộng 20 tiện ích ấn tượng. Một số tiện ích nổi bật bao gồm hồ bơi vô cực, khu tập thể thao ngoài trời, vườn yoga/thiền, và phòng gym trong nhà. Nếu Anh/Chị cần thêm thông tin chi tiết về từng tiện ích, em rất sẵn lòng hỗ trợ!\n"
     ]
    }
   ],
   "source": [
    "# Execute\n",
    "query = \"Số lượng tiện ích\"\n",
    "config = {\"configurable\": {\"thread_id\": \"abc123\"}}\n",
    "messages = [\n",
    "    {\"role\": \"user\", \"content\": query}\n",
    "]\n",
    "response = await graph.ainvoke({\"messages\": messages},config=config)\n",
    "print(response[\"messages\"][-1].content)"
   ]
  },
  {
   "cell_type": "code",
   "execution_count": 30,
   "id": "b5faf023-06af-4455-97fd-2d66f870e298",
   "metadata": {},
   "outputs": [
    {
     "name": "stdout",
     "output_type": "stream",
     "text": [
      "[Document(metadata={'page': 50, 'source': '../knowledge_pdf/masterigrandview.pdf'}, page_content='HỆ TIỆN ÍCH ẤN TƯỢNG\\n1\\n2\\n3\\n4\\n5\\n6\\n7\\n8\\n9\\n10\\n11\\n12\\n13\\n14\\n15\\n16\\n17\\n18\\n19\\n20\\nGHẾ NẰM THƯ \\nGIÃN DƯỚI NƯỚC\\nHỒ BƠI VÔ CỰC\\nGHẾ THƯ GIÃN \\nTẮM NẮNG\\nHỒ BƠI TRẺ EM\\nSEN TẮM ĐỨNG\\nNGOÀI TRỜI\\nVƯỜN ĐỌC SÁCH\\nVƯỜN YOGA/THIỀN\\nKHU TẬP THỂ THAO \\nNGOÀI TRỜI\\nKHUÔN VIÊN BBQ\\nSÂN CHƠI TRẺ \\nEM\\nKHU VUI CHƠI TRẺ \\nEM TRONG NHÀ\\nPHÒNG CHƠI GAME\\nVƯỜN THƯ \\nGIÃN\\nPHÒNG ĐA \\nCHỨC NĂNG\\nKHU VỰC \\nBUSINESS CENTER\\nTHƯ VIỆN\\nLOUNGE \\nPHÒNG THAY ĐỒ\\nPHÒNG GYM \\nTRONG NHÀ\\nPHÒNG YOGA'), Document(metadata={'page': 50, 'source': '../knowledge_pdf/masterigrandview.pdf'}, page_content='HỆ TIỆN ÍCH ẤN TƯỢNG\\n1\\n2\\n3\\n4\\n5\\n6\\n7\\n8\\n9\\n10\\n11\\n12\\n13\\n14\\n15\\n16\\n17\\n18\\n19\\n20\\nGHẾ NẰM THƯ \\nGIÃN DƯỚI NƯỚC\\nHỒ BƠI VÔ CỰC\\nGHẾ THƯ GIÃN \\nTẮM NẮNG\\nHỒ BƠI TRẺ EM\\nSEN TẮM ĐỨNG\\nNGOÀI TRỜI\\nVƯỜN ĐỌC SÁCH\\nVƯỜN YOGA/THIỀN\\nKHU TẬP THỂ THAO \\nNGOÀI TRỜI\\nKHUÔN VIÊN BBQ\\nSÂN CHƠI TRẺ \\nEM\\nKHU VUI CHƠI TRẺ \\nEM TRONG NHÀ\\nPHÒNG CHƠI GAME\\nVƯỜN THƯ \\nGIÃN\\nPHÒNG ĐA \\nCHỨC NĂNG\\nKHU VỰC \\nBUSINESS CENTER\\nTHƯ VIỆN\\nLOUNGE \\nPHÒNG THAY ĐỒ\\nPHÒNG GYM \\nTRONG NHÀ\\nPHÒNG YOGA')]\n"
     ]
    }
   ],
   "source": [
    "\"\"\"Retrieve information related to a query.\"\"\"\n",
    "\n",
    "retrieved_docs = vectordb.similarity_search(query, k=2)\n",
    "serialized = \"\\n\\n\".join(\n",
    "    (f\"Source: {doc.metadata}\\n\" f\"Content: {doc.page_content}\")\n",
    "    for doc in retrieved_docs\n",
    ")\n",
    "\n",
    "print(retrieved_docs)"
   ]
  },
  {
   "cell_type": "code",
   "execution_count": null,
   "id": "84ed5ec8-8cce-42b3-8158-87942e8ff855",
   "metadata": {},
   "outputs": [],
   "source": []
  }
 ],
 "metadata": {
  "kernelspec": {
   "display_name": "Python 3 (ipykernel)",
   "language": "python",
   "name": "python3"
  },
  "language_info": {
   "codemirror_mode": {
    "name": "ipython",
    "version": 3
   },
   "file_extension": ".py",
   "mimetype": "text/x-python",
   "name": "python",
   "nbconvert_exporter": "python",
   "pygments_lexer": "ipython3",
   "version": "3.11.10"
  }
 },
 "nbformat": 4,
 "nbformat_minor": 5
}
