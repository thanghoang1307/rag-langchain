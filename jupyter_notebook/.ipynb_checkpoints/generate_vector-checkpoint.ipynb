{
 "cells": [
  {
   "cell_type": "code",
   "execution_count": 11,
   "id": "26583d3c-e054-47b9-b84d-c877a37e558d",
   "metadata": {},
   "outputs": [
    {
     "data": {
      "text/plain": [
       "65"
      ]
     },
     "execution_count": 11,
     "metadata": {},
     "output_type": "execute_result"
    }
   ],
   "source": [
    "from langchain_community.document_loaders import PyPDFLoader\n",
    "from langchain_chroma import Chroma\n",
    "from langchain_openai import OpenAIEmbeddings\n",
    "from langchain.text_splitter import CharacterTextSplitter\n",
    "from langchain_text_splitters import RecursiveCharacterTextSplitter\n",
    "from dotenv import load_dotenv\n",
    "import os\n",
    "import getpass\n",
    "\n",
    "load_dotenv()\n",
    "if not os.getenv(\"OPENAI_API_KEY\"):\n",
    "    os.environ[\"OPENAI_API_KEY\"] = getpass.getpass(\"Enter your OpenAI API key: \")\n",
    "\n",
    "os.environ[\"LANGSMITH_TRACING_V2\"] = \"true\"\n",
    "if not os.getenv(\"LANGSMITH_API_KEY\"):\n",
    "    os.environ[\"LANGSMITH_API_KEY\"] = getpass.getpass(\"Enter your LangSmith API key: \")\n",
    "    \n",
    "loader = PyPDFLoader(\"../knowledge_pdf/masterigrandview.pdf\")\n",
    "pages = loader.load()\n",
    "len(pages)\n",
    "\n",
    "# 2. Splitter\n",
    "text_splitter = CharacterTextSplitter(\n",
    "    separator=\"\\n\",\n",
    "    chunk_size=500,\n",
    "    chunk_overlap=70,\n",
    "    length_function=len\n",
    ")\n",
    "\n",
    "docs = text_splitter.split_documents(pages)\n",
    "embeddings = OpenAIEmbeddings(\n",
    "model=\"text-embedding-3-large\",\n",
    ")\n",
    "\n",
    "persist_directory = '../docs/chroma/'\n",
    "\n",
    "vectordb = Chroma.from_documents(\n",
    "    documents=docs,\n",
    "    embedding=embeddings,\n",
    "    persist_directory=persist_directory\n",
    ")\n",
    "len(pages)\n",
    "len(docs)"
   ]
  },
  {
   "cell_type": "code",
   "execution_count": 12,
   "id": "3a472760-8faa-4430-b35e-22b3aabab2f1",
   "metadata": {},
   "outputs": [],
   "source": [
    "import faiss\n",
    "import numpy as np\n",
    "from langchain_community.docstore.in_memory import InMemoryDocstore\n",
    "from langchain_community.vectorstores import FAISS\n",
    "\n",
    "# Tạo embeddings cho từng đoạn văn bản\n",
    "embeddings_list = [embeddings.embed_query(doc.page_content) for doc in docs]\n",
    "\n",
    "# Chuyển các embedding thành numpy array\n",
    "embeddings_array = np.array(embeddings_list, dtype=np.float32)\n",
    "\n",
    "# Kiểm tra số chiều của vector embedding\n",
    "embedding_dim = embeddings_array.shape[1]\n",
    "\n",
    "# Tạo chỉ mục FAISS với khoảng cách L2\n",
    "index = faiss.IndexFlatL2(embedding_dim)\n",
    "\n",
    "# # Thêm các embedding vào chỉ mục FAISS\n",
    "index.add(embeddings_array)\n",
    "\n",
    "# # Lưu chỉ mục FAISS vào file\n",
    "faiss.write_index(index, \"../docs/faiss/faiss_index.index\")"
   ]
  },
  {
   "cell_type": "code",
   "execution_count": 14,
   "id": "dc002c6c-2855-4998-9ba9-9a874abd8468",
   "metadata": {},
   "outputs": [
    {
     "name": "stdout",
     "output_type": "stream",
     "text": [
      "Document: page_content='50 năm đối với người nước ngoài\n",
      "Tiêu chuẩn bàn giao Bàn giao hoàn thiện\n",
      "Bàn giao thô (Penthouse Duplex)\n",
      "Thời gian bàn giao dự kiến 2026\n",
      "THÔNG TIN TỔNG QUAN DỰ ÁN' metadata={'source': '../knowledge_pdf/masterigrandview.pdf', 'page': 22}\n",
      "Document: page_content='HẠ TẦNG ĐỒNG BỘ - HOÀN CHỈNH' metadata={'source': '../knowledge_pdf/masterigrandview.pdf', 'page': 4}\n",
      "Document: page_content='~450.000\n",
      "M2\n",
      "TOÀN BỘ CÂY XANH VÀ MẶT NƯỚC TOÀN DỰ ÁN LÊN ĐẾN' metadata={'source': '../knowledge_pdf/masterigrandview.pdf', 'page': 59}\n",
      "Document: page_content='Chào đón\n",
      "SIÊU PHẨM CAO TẦNG ĐẦU TIÊN\n",
      "tại The Global City' metadata={'source': '../knowledge_pdf/masterigrandview.pdf', 'page': 0}\n",
      "Document: page_content='QUY HOẠCH \n",
      "ĐỒNG BỘ \n",
      "117,4ha' metadata={'source': '../knowledge_pdf/masterigrandview.pdf', 'page': 2}\n"
     ]
    }
   ],
   "source": [
    "# # Giả sử bạn có một câu truy vấn\n",
    "query = \"dự án khi nào bàn giao\"\n",
    "\n",
    "# # Chuyển câu truy vấn thành vector embedding\n",
    "query_vector = embeddings.embed_query(query)\n",
    "\n",
    "# # Tìm kiếm trong chỉ mục FAISS\n",
    "D, I = index.search(np.array([query_vector], dtype=np.float32), k=5)\n",
    "\n",
    "# # D: Khoảng cách giữa câu truy vấn và các đoạn trong tài liệu\n",
    "# # I: Chỉ mục của các đoạn gần nhất\n",
    "# print(\"Khoảng cách (distance):\", D)\n",
    "# print(\"Chỉ mục (index):\", I)\n",
    "for idx in I[0]:\n",
    "    print(f\"Document: {docs[idx]}\")"
   ]
  },
  {
   "cell_type": "code",
   "execution_count": 15,
   "id": "2eb020e8-3fb3-4cba-8bd4-c13407cd00ef",
   "metadata": {},
   "outputs": [],
   "source": [
    "query = \"Tiện ích dự án\" # Thời gian bàn giao dự kiến thì tìm đúng thông tin, Hỏi thời gian bàn giao thì không chính xác\n",
    "retrieved_docs = vectordb.similarity_search(query, k=2)\n",
    "serialized = \"\\n\\n\".join(\n",
    "    (f\"Source: {doc.metadata}\\n\" f\"Content: {doc.page_content}\")\n",
    "    for doc in retrieved_docs\n",
    ")"
   ]
  },
  {
   "cell_type": "code",
   "execution_count": 16,
   "id": "d7d5d66f-183c-42c7-a21e-dc1c974c4342",
   "metadata": {},
   "outputs": [
    {
     "name": "stdout",
     "output_type": "stream",
     "text": [
      "[Document(metadata={'page': 40, 'source': './mh_docs/masterigrandview.pdf'}, page_content='gian cho sân phơi, hệ lam kín đáo che chắn\\ntăng tính thẩm mỹ cho cả dự án'), Document(metadata={'page': 50, 'source': './mh_docs/masterigrandview.pdf'}, page_content='HỆ TIỆN ÍCH ẤN TƯỢNG\\n1\\n2\\n3\\n4\\n5\\n6\\n7\\n8\\n9\\n10\\n11\\n12\\n13\\n14\\n15\\n16\\n17\\n18\\n19\\n20\\nGHẾ NẰM THƯ \\nGIÃN DƯỚI NƯỚC\\nHỒ BƠI VÔ CỰC\\nGHẾ THƯ GIÃN \\nTẮM NẮNG\\nHỒ BƠI TRẺ EM\\nSEN TẮM ĐỨNG\\nNGOÀI TRỜI\\nVƯỜN ĐỌC SÁCH\\nVƯỜN YOGA/THIỀN\\nKHU TẬP THỂ THAO \\nNGOÀI TRỜI\\nKHUÔN VIÊN BBQ\\nSÂN CHƠI TRẺ \\nEM\\nKHU VUI CHƠI TRẺ \\nEM TRONG NHÀ\\nPHÒNG CHƠI GAME\\nVƯỜN THƯ \\nGIÃN\\nPHÒNG ĐA \\nCHỨC NĂNG\\nKHU VỰC \\nBUSINESS CENTER\\nTHƯ VIỆN\\nLOUNGE \\nPHÒNG THAY ĐỒ\\nPHÒNG GYM \\nTRONG NHÀ\\nPHÒNG YOGA')]\n"
     ]
    }
   ],
   "source": [
    "print(retrieved_docs)"
   ]
  },
  {
   "cell_type": "code",
   "execution_count": 17,
   "id": "63e99b12-db85-4e83-9e97-fa2c7ea0697d",
   "metadata": {},
   "outputs": [
    {
     "name": "stdout",
     "output_type": "stream",
     "text": [
      "Source: {'page': 40, 'source': './mh_docs/masterigrandview.pdf'}\n",
      "Content: gian cho sân phơi, hệ lam kín đáo che chắn\n",
      "tăng tính thẩm mỹ cho cả dự án\n",
      "\n",
      "Source: {'page': 50, 'source': './mh_docs/masterigrandview.pdf'}\n",
      "Content: HỆ TIỆN ÍCH ẤN TƯỢNG\n",
      "1\n",
      "2\n",
      "3\n",
      "4\n",
      "5\n",
      "6\n",
      "7\n",
      "8\n",
      "9\n",
      "10\n",
      "11\n",
      "12\n",
      "13\n",
      "14\n",
      "15\n",
      "16\n",
      "17\n",
      "18\n",
      "19\n",
      "20\n",
      "GHẾ NẰM THƯ \n",
      "GIÃN DƯỚI NƯỚC\n",
      "HỒ BƠI VÔ CỰC\n",
      "GHẾ THƯ GIÃN \n",
      "TẮM NẮNG\n",
      "HỒ BƠI TRẺ EM\n",
      "SEN TẮM ĐỨNG\n",
      "NGOÀI TRỜI\n",
      "VƯỜN ĐỌC SÁCH\n",
      "VƯỜN YOGA/THIỀN\n",
      "KHU TẬP THỂ THAO \n",
      "NGOÀI TRỜI\n",
      "KHUÔN VIÊN BBQ\n",
      "SÂN CHƠI TRẺ \n",
      "EM\n",
      "KHU VUI CHƠI TRẺ \n",
      "EM TRONG NHÀ\n",
      "PHÒNG CHƠI GAME\n",
      "VƯỜN THƯ \n",
      "GIÃN\n",
      "PHÒNG ĐA \n",
      "CHỨC NĂNG\n",
      "KHU VỰC \n",
      "BUSINESS CENTER\n",
      "THƯ VIỆN\n",
      "LOUNGE \n",
      "PHÒNG THAY ĐỒ\n",
      "PHÒNG GYM \n",
      "TRONG NHÀ\n",
      "PHÒNG YOGA\n"
     ]
    }
   ],
   "source": [
    "print(serialized)"
   ]
  },
  {
   "cell_type": "code",
   "execution_count": null,
   "id": "9c7eadf8-90e9-4072-b74a-b6523030bc46",
   "metadata": {},
   "outputs": [],
   "source": []
  }
 ],
 "metadata": {
  "kernelspec": {
   "display_name": "Python 3 (ipykernel)",
   "language": "python",
   "name": "python3"
  },
  "language_info": {
   "codemirror_mode": {
    "name": "ipython",
    "version": 3
   },
   "file_extension": ".py",
   "mimetype": "text/x-python",
   "name": "python",
   "nbconvert_exporter": "python",
   "pygments_lexer": "ipython3",
   "version": "3.11.10"
  }
 },
 "nbformat": 4,
 "nbformat_minor": 5
}
