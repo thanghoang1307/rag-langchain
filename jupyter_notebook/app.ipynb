{
 "cells": [
  {
   "cell_type": "code",
   "execution_count": 36,
   "id": "21888c0c-e961-4e50-b4d8-523ecc29282e",
   "metadata": {},
   "outputs": [
    {
     "name": "stdout",
     "output_type": "stream",
     "text": [
      "Loaded OPENAI & LANGSMITH variables\n"
     ]
    }
   ],
   "source": [
    "# Load env in local\n",
    "from dotenv import load_dotenv\n",
    "import os\n",
    "import getpass\n",
    "\n",
    "load_dotenv()\n",
    "\n",
    "if not os.getenv(\"OPENAI_API_KEY\"):\n",
    "    os.environ[\"OPENAI_API_KEY\"] = getpass.getpass(\"Enter your OpenAI API key: \")\n",
    "\n",
    "os.environ[\"LANGSMITH_TRACING_V2\"] = \"true\"\n",
    "if not os.getenv(\"LANGSMITH_API_KEY\"):\n",
    "    os.environ[\"LANGSMITH_API_KEY\"] = getpass.getpass(\"Enter your LangSmith API key: \")\n",
    "    \n",
    "print(\"Loaded OPENAI & LANGSMITH variables\")"
   ]
  },
  {
   "cell_type": "code",
   "execution_count": 37,
   "id": "9fe18ee3-cd8c-479b-b7a1-d891eefa095c",
   "metadata": {},
   "outputs": [
    {
     "name": "stdout",
     "output_type": "stream",
     "text": [
      "Loaded existing vector store.\n"
     ]
    }
   ],
   "source": [
    "# Load vectordb\n",
    "from langchain_chroma import Chroma\n",
    "from langchain_openai import OpenAIEmbeddings\n",
    "\n",
    "embeddings = OpenAIEmbeddings(\n",
    "    model=\"text-embedding-3-large\",\n",
    ")\n",
    "\n",
    "persist_directory = './docs/chroma/'\n",
    "\n",
    "vectordb = Chroma(persist_directory=persist_directory, embedding_function=embeddings)\n",
    "print(\"Loaded existing vector store.\")"
   ]
  },
  {
   "cell_type": "code",
   "execution_count": 29,
   "id": "84cb962b-91ca-4036-8318-d35d349b903c",
   "metadata": {},
   "outputs": [],
   "source": [
    "# Load LLM\n",
    "from langchain_openai import ChatOpenAI\n",
    "\n",
    "llm = ChatOpenAI(model_name=\"gpt-4o-mini\", temperature=0)"
   ]
  },
  {
   "cell_type": "code",
   "execution_count": 30,
   "id": "a7cfe688-5737-4bf6-9188-c3bd3f8b3605",
   "metadata": {},
   "outputs": [],
   "source": [
    "# Init graph_builder\n",
    "from langgraph.graph import MessagesState, StateGraph\n",
    "graph_builder = StateGraph(MessagesState)"
   ]
  },
  {
   "cell_type": "code",
   "execution_count": 31,
   "id": "bc367da6-0344-48fa-a603-324f6a72197e",
   "metadata": {},
   "outputs": [],
   "source": [
    "from langchain_core.tools import tool\n",
    "from langgraph.graph import MessagesState, StateGraph\n",
    "from langchain_core.messages import SystemMessage\n",
    "from langgraph.prebuilt import ToolNode\n",
    "\n",
    "# Tool retrieve define\n",
    "@tool(response_format=\"content_and_artifact\")\n",
    "def retrieve(query: str):\n",
    "    \"\"\"Retrieve information related to a query.\"\"\"\n",
    "    retrieved_docs = vectordb.similarity_search(query, k=2)\n",
    "    serialized = \"\\n\\n\".join(\n",
    "        (f\"Source: {doc.metadata}\\n\" f\"Content: {doc.page_content}\")\n",
    "        for doc in retrieved_docs\n",
    "    )\n",
    "    return serialized, retrieved_docs\n",
    "\n",
    "# Step 1: Generate an AIMessage that may include a tool-call to be sent.\n",
    "def query_or_respond(state: MessagesState):\n",
    "    \"\"\"Generate tool call for retrieval or respond.\"\"\"\n",
    "    llm_with_tools = llm.bind_tools([retrieve])\n",
    "    system_message_content = (\n",
    "        \"Bạn là nhân viên chăm sóc khách hàng của Masterise Homes và bạn sẽ trả lời các câu hỏi của khách hàng về Công ty cũng như các dự án thuộc Công ty.\"\n",
    "        \"Hãy dùng đại từ xưng hô gọi khách hàng là Anh/Chị, còn bạn dùng đại từ xưng hô là Em.\"\n",
    "        \"Hãy trả lời câu hỏi của khách hàng một cách lịch sự và tôn trọng.\"\n",
    "        \"Khi được hỏi về các thông tin liên quan đến dự án như thời gian bàn giao, tiện ích, vị trí..., hãy tìm trong tài liệu của dự án Masteri Grand View để phản hồi khách hàng\"\n",
    "    )\n",
    "    response = llm_with_tools.invoke([SystemMessage(system_message_content)] + state[\"messages\"])\n",
    "    # MessagesState appends messages to state instead of overwriting\n",
    "    return {\"messages\": [response]}\n",
    "\n",
    "# Step 2: Execute the retrieval.\n",
    "tools = ToolNode([retrieve])\n",
    "\n",
    "# Step 3: Generate a response using the retrieved content.\n",
    "def generate(state: MessagesState):\n",
    "    \"\"\"Generate answer.\"\"\"\n",
    "    # Get generated ToolMessages\n",
    "    recent_tool_messages = []\n",
    "    for message in reversed(state[\"messages\"]):\n",
    "        if message.type == \"tool\":\n",
    "            recent_tool_messages.append(message)\n",
    "        else:\n",
    "            break\n",
    "    tool_messages = recent_tool_messages[::-1]\n",
    "    # Format into prompt\n",
    "    docs_content = \"\\n\\n\".join(doc.content for doc in tool_messages)\n",
    "    system_message_content = (\n",
    "        \"Bạn là nhân viên chăm sóc khách hàng của Masterise Homes và bạn sẽ trả lời các câu hỏi của khách hàng về Công ty cũng như các dự án thuộc Công ty.\"\n",
    "        \"Hãy dùng đại từ xưng hô gọi khách hàng là Anh/Chị, còn bạn dùng đại từ xưng hô là Em.\"\n",
    "        \"Hãy trả lời câu hỏi của khách hàng một cách lịch sự và tôn trọng.\"\n",
    "        \"Chỉ dựa trên thông tin trong tài liệu sau, trả lời câu hỏi:\"\n",
    "        \"\\n\\n\"\n",
    "        f\"{docs_content}\"\n",
    "        \"\\n\\n\"\n",
    "        \"Trong trường hợp khách hàng hỏi những câu hỏi không liên quan đến Công ty và dự án, hãy từ chối trả lời một cách lịch sự.\"\n",
    "        \"Nếu thông tin không có trong tài liệu, trả  lời: 'Không tìm thấy thông tin trong tài liệu.', không được sáng tạo nội dung\"\n",
    "        \"Nếu có, kèm trích dẫn từ nội dung bên trên\"\n",
    "    )\n",
    "    conversation_messages = [\n",
    "        message\n",
    "        for message in state[\"messages\"]\n",
    "        if message.type in (\"human\", \"system\")\n",
    "        or (message.type == \"ai\" and not message.tool_calls)\n",
    "    ]\n",
    "    prompt = [SystemMessage(system_message_content)] + conversation_messages\n",
    "\n",
    "    # Run\n",
    "    response = llm.invoke(prompt)\n",
    "    return {\"messages\": [response]}"
   ]
  },
  {
   "cell_type": "code",
   "execution_count": 32,
   "id": "a62baf1e-895e-4563-8717-5676683d0cb4",
   "metadata": {},
   "outputs": [],
   "source": [
    "from langgraph.graph import END\n",
    "from langgraph.prebuilt import tools_condition\n",
    "from langgraph.checkpoint.memory import MemorySaver\n",
    "\n",
    "# Graph builder\n",
    "graph_builder.add_node(query_or_respond)\n",
    "graph_builder.add_node(tools)\n",
    "graph_builder.add_node(generate)\n",
    "\n",
    "graph_builder.set_entry_point(\"query_or_respond\")\n",
    "graph_builder.add_conditional_edges(\n",
    "    \"query_or_respond\",\n",
    "    tools_condition,\n",
    "    {END: END, \"tools\": \"tools\"},\n",
    ")\n",
    "graph_builder.add_edge(\"tools\", \"generate\")\n",
    "graph_builder.add_edge(\"generate\", END)\n",
    "# memory = MemorySaver()\n",
    "# graph = graph_builder.compile(checkpointer=memory)\n",
    "graph = graph_builder.compile()"
   ]
  },
  {
   "cell_type": "code",
   "execution_count": 35,
   "id": "0a7b3fb3-c56c-4512-a9fc-5faf097d655c",
   "metadata": {},
   "outputs": [
    {
     "name": "stdout",
     "output_type": "stream",
     "text": [
      "{'recent_tool_messages': [ToolMessage(content=\"Source: {'page': 61, 'source': './mh_docs/masterigrandview.pdf'}\\nContent: NHỮNG LÝ DO KHIẾN MASTERI GRAND VIEW \\nTRỞ THÀNH LỰA CHỌN HÀNG ĐẦU\\n1.\\n2.\\n3.\\n4.\\n5.\\n6.\\nTỌA LẠC TRONG KHU ĐÔ THỊ 117.4HA –\\nTHE GLOBAL CITY –\\nQUỸ ĐẤT VÀNG TẠI P. AN PHÚ\\nLÀ SIÊU PHẨM CAO TẦNG ĐẦU \\nTIÊN \\nTẠI TRUNG TÂM MỚI\\nVỊ TRÍ KIM CƯƠNG TẠI GIAO \\nĐIỂM ĐA SẮC MÀU\\nĐƯỢC PHÁT TRIỂN BỞI CÁC \\nTÊN TUỔI HÀNG ĐẦU THẾ GIỚI\\nTHỜI ĐIỂM VÀNG ĐỂ SỞ HỮU \\nNHỮNG CĂN HỘ ĐẦU TIÊN TẠI THE \\nGLOBAL CITY\\nTHỪA HƯỞNG TOÀN BỘ HỆ TIỆN \\nÍCH ĐỈNH CAO CỦA \\nTHE GLOBAL CITY\\n7.\\n8.\\nSỞ HỮU LOẠI HÌNH 4PN CỰC KHAN \\nHIẾM TRÊN THỊ TRƯỜNG\\nMỖI SÀN CHỈ 8CĂN\\n\\nSource: {'page': 61, 'source': './mh_docs/masterigrandview.pdf'}\\nContent: NHỮNG LÝ DO KHIẾN MASTERI GRAND VIEW \\nTRỞ THÀNH LỰA CHỌN HÀNG ĐẦU\\n1.\\n2.\\n3.\\n4.\\n5.\\n6.\\nTỌA LẠC TRONG KHU ĐÔ THỊ 117.4HA –\\nTHE GLOBAL CITY –\\nQUỸ ĐẤT VÀNG TẠI P. AN PHÚ\\nLÀ SIÊU PHẨM CAO TẦNG ĐẦU \\nTIÊN \\nTẠI TRUNG TÂM MỚI\\nVỊ TRÍ KIM CƯƠNG TẠI GIAO \\nĐIỂM ĐA SẮC MÀU\\nĐƯỢC PHÁT TRIỂN BỞI CÁC \\nTÊN TUỔI HÀNG ĐẦU THẾ GIỚI\\nTHỜI ĐIỂM VÀNG ĐỂ SỞ HỮU \\nNHỮNG CĂN HỘ ĐẦU TIÊN TẠI THE \\nGLOBAL CITY\\nTHỪA HƯỞNG TOÀN BỘ HỆ TIỆN \\nÍCH ĐỈNH CAO CỦA \\nTHE GLOBAL CITY\\n7.\\n8.\\nSỞ HỮU LOẠI HÌNH 4PN CỰC KHAN \\nHIẾM TRÊN THỊ TRƯỜNG\\nMỖI SÀN CHỈ 8CĂN\\n\\nSource: {'page': 61, 'source': './mh_docs/masterigrandview.pdf'}\\nContent: NHỮNG LÝ DO KHIẾN MASTERI GRAND VIEW \\nTRỞ THÀNH LỰA CHỌN HÀNG ĐẦU\\n1.\\n2.\\n3.\\n4.\\n5.\\n6.\\nTỌA LẠC TRONG KHU ĐÔ THỊ 117.4HA –\\nTHE GLOBAL CITY –\\nQUỸ ĐẤT VÀNG TẠI P. AN PHÚ\\nLÀ SIÊU PHẨM CAO TẦNG ĐẦU \\nTIÊN \\nTẠI TRUNG TÂM MỚI\\nVỊ TRÍ KIM CƯƠNG TẠI GIAO \\nĐIỂM ĐA SẮC MÀU\\nĐƯỢC PHÁT TRIỂN BỞI CÁC \\nTÊN TUỔI HÀNG ĐẦU THẾ GIỚI\\nTHỜI ĐIỂM VÀNG ĐỂ SỞ HỮU \\nNHỮNG CĂN HỘ ĐẦU TIÊN TẠI THE \\nGLOBAL CITY\\nTHỪA HƯỞNG TOÀN BỘ HỆ TIỆN \\nÍCH ĐỈNH CAO CỦA \\nTHE GLOBAL CITY\\n7.\\n8.\\nSỞ HỮU LOẠI HÌNH 4PN CỰC KHAN \\nHIẾM TRÊN THỊ TRƯỜNG\\nMỖI SÀN CHỈ 8CĂN\\n\\nSource: {'page': 15, 'source': './mh_docs/masterigrandview.pdf'}\\nContent: “MỘT SIÊU PHẨM CAO TẦNG \\nTHUỘC \\nMASTERI COLLECTION\\nNGAY TẠI TRUNG TÂM MỚI”\\n\\nSource: {'page': 15, 'source': './mh_docs/masterigrandview.pdf'}\\nContent: “MỘT SIÊU PHẨM CAO TẦNG \\nTHUỘC \\nMASTERI COLLECTION\\nNGAY TẠI TRUNG TÂM MỚI”\", name='retrieve', id='b5172295-85c3-48c2-9629-79a0074ec787', tool_call_id='call_maSs1AfWt6dC7uFmBSyQK2aD', artifact=[Document(metadata={'page': 61, 'source': './mh_docs/masterigrandview.pdf'}, page_content='NHỮNG LÝ DO KHIẾN MASTERI GRAND VIEW \\nTRỞ THÀNH LỰA CHỌN HÀNG ĐẦU\\n1.\\n2.\\n3.\\n4.\\n5.\\n6.\\nTỌA LẠC TRONG KHU ĐÔ THỊ 117.4HA –\\nTHE GLOBAL CITY –\\nQUỸ ĐẤT VÀNG TẠI P. AN PHÚ\\nLÀ SIÊU PHẨM CAO TẦNG ĐẦU \\nTIÊN \\nTẠI TRUNG TÂM MỚI\\nVỊ TRÍ KIM CƯƠNG TẠI GIAO \\nĐIỂM ĐA SẮC MÀU\\nĐƯỢC PHÁT TRIỂN BỞI CÁC \\nTÊN TUỔI HÀNG ĐẦU THẾ GIỚI\\nTHỜI ĐIỂM VÀNG ĐỂ SỞ HỮU \\nNHỮNG CĂN HỘ ĐẦU TIÊN TẠI THE \\nGLOBAL CITY\\nTHỪA HƯỞNG TOÀN BỘ HỆ TIỆN \\nÍCH ĐỈNH CAO CỦA \\nTHE GLOBAL CITY\\n7.\\n8.\\nSỞ HỮU LOẠI HÌNH 4PN CỰC KHAN \\nHIẾM TRÊN THỊ TRƯỜNG\\nMỖI SÀN CHỈ 8CĂN'), Document(metadata={'page': 61, 'source': './mh_docs/masterigrandview.pdf'}, page_content='NHỮNG LÝ DO KHIẾN MASTERI GRAND VIEW \\nTRỞ THÀNH LỰA CHỌN HÀNG ĐẦU\\n1.\\n2.\\n3.\\n4.\\n5.\\n6.\\nTỌA LẠC TRONG KHU ĐÔ THỊ 117.4HA –\\nTHE GLOBAL CITY –\\nQUỸ ĐẤT VÀNG TẠI P. AN PHÚ\\nLÀ SIÊU PHẨM CAO TẦNG ĐẦU \\nTIÊN \\nTẠI TRUNG TÂM MỚI\\nVỊ TRÍ KIM CƯƠNG TẠI GIAO \\nĐIỂM ĐA SẮC MÀU\\nĐƯỢC PHÁT TRIỂN BỞI CÁC \\nTÊN TUỔI HÀNG ĐẦU THẾ GIỚI\\nTHỜI ĐIỂM VÀNG ĐỂ SỞ HỮU \\nNHỮNG CĂN HỘ ĐẦU TIÊN TẠI THE \\nGLOBAL CITY\\nTHỪA HƯỞNG TOÀN BỘ HỆ TIỆN \\nÍCH ĐỈNH CAO CỦA \\nTHE GLOBAL CITY\\n7.\\n8.\\nSỞ HỮU LOẠI HÌNH 4PN CỰC KHAN \\nHIẾM TRÊN THỊ TRƯỜNG\\nMỖI SÀN CHỈ 8CĂN'), Document(metadata={'page': 61, 'source': './mh_docs/masterigrandview.pdf'}, page_content='NHỮNG LÝ DO KHIẾN MASTERI GRAND VIEW \\nTRỞ THÀNH LỰA CHỌN HÀNG ĐẦU\\n1.\\n2.\\n3.\\n4.\\n5.\\n6.\\nTỌA LẠC TRONG KHU ĐÔ THỊ 117.4HA –\\nTHE GLOBAL CITY –\\nQUỸ ĐẤT VÀNG TẠI P. AN PHÚ\\nLÀ SIÊU PHẨM CAO TẦNG ĐẦU \\nTIÊN \\nTẠI TRUNG TÂM MỚI\\nVỊ TRÍ KIM CƯƠNG TẠI GIAO \\nĐIỂM ĐA SẮC MÀU\\nĐƯỢC PHÁT TRIỂN BỞI CÁC \\nTÊN TUỔI HÀNG ĐẦU THẾ GIỚI\\nTHỜI ĐIỂM VÀNG ĐỂ SỞ HỮU \\nNHỮNG CĂN HỘ ĐẦU TIÊN TẠI THE \\nGLOBAL CITY\\nTHỪA HƯỞNG TOÀN BỘ HỆ TIỆN \\nÍCH ĐỈNH CAO CỦA \\nTHE GLOBAL CITY\\n7.\\n8.\\nSỞ HỮU LOẠI HÌNH 4PN CỰC KHAN \\nHIẾM TRÊN THỊ TRƯỜNG\\nMỖI SÀN CHỈ 8CĂN'), Document(metadata={'page': 15, 'source': './mh_docs/masterigrandview.pdf'}, page_content='“MỘT SIÊU PHẨM CAO TẦNG \\nTHUỘC \\nMASTERI COLLECTION\\nNGAY TẠI TRUNG TÂM MỚI”'), Document(metadata={'page': 15, 'source': './mh_docs/masterigrandview.pdf'}, page_content='“MỘT SIÊU PHẨM CAO TẦNG \\nTHUỘC \\nMASTERI COLLECTION\\nNGAY TẠI TRUNG TÂM MỚI”')])]}\n",
      "{'recent_tool_message': [ToolMessage(content=\"Source: {'page': 61, 'source': './mh_docs/masterigrandview.pdf'}\\nContent: NHỮNG LÝ DO KHIẾN MASTERI GRAND VIEW \\nTRỞ THÀNH LỰA CHỌN HÀNG ĐẦU\\n1.\\n2.\\n3.\\n4.\\n5.\\n6.\\nTỌA LẠC TRONG KHU ĐÔ THỊ 117.4HA –\\nTHE GLOBAL CITY –\\nQUỸ ĐẤT VÀNG TẠI P. AN PHÚ\\nLÀ SIÊU PHẨM CAO TẦNG ĐẦU \\nTIÊN \\nTẠI TRUNG TÂM MỚI\\nVỊ TRÍ KIM CƯƠNG TẠI GIAO \\nĐIỂM ĐA SẮC MÀU\\nĐƯỢC PHÁT TRIỂN BỞI CÁC \\nTÊN TUỔI HÀNG ĐẦU THẾ GIỚI\\nTHỜI ĐIỂM VÀNG ĐỂ SỞ HỮU \\nNHỮNG CĂN HỘ ĐẦU TIÊN TẠI THE \\nGLOBAL CITY\\nTHỪA HƯỞNG TOÀN BỘ HỆ TIỆN \\nÍCH ĐỈNH CAO CỦA \\nTHE GLOBAL CITY\\n7.\\n8.\\nSỞ HỮU LOẠI HÌNH 4PN CỰC KHAN \\nHIẾM TRÊN THỊ TRƯỜNG\\nMỖI SÀN CHỈ 8CĂN\\n\\nSource: {'page': 61, 'source': './mh_docs/masterigrandview.pdf'}\\nContent: NHỮNG LÝ DO KHIẾN MASTERI GRAND VIEW \\nTRỞ THÀNH LỰA CHỌN HÀNG ĐẦU\\n1.\\n2.\\n3.\\n4.\\n5.\\n6.\\nTỌA LẠC TRONG KHU ĐÔ THỊ 117.4HA –\\nTHE GLOBAL CITY –\\nQUỸ ĐẤT VÀNG TẠI P. AN PHÚ\\nLÀ SIÊU PHẨM CAO TẦNG ĐẦU \\nTIÊN \\nTẠI TRUNG TÂM MỚI\\nVỊ TRÍ KIM CƯƠNG TẠI GIAO \\nĐIỂM ĐA SẮC MÀU\\nĐƯỢC PHÁT TRIỂN BỞI CÁC \\nTÊN TUỔI HÀNG ĐẦU THẾ GIỚI\\nTHỜI ĐIỂM VÀNG ĐỂ SỞ HỮU \\nNHỮNG CĂN HỘ ĐẦU TIÊN TẠI THE \\nGLOBAL CITY\\nTHỪA HƯỞNG TOÀN BỘ HỆ TIỆN \\nÍCH ĐỈNH CAO CỦA \\nTHE GLOBAL CITY\\n7.\\n8.\\nSỞ HỮU LOẠI HÌNH 4PN CỰC KHAN \\nHIẾM TRÊN THỊ TRƯỜNG\\nMỖI SÀN CHỈ 8CĂN\\n\\nSource: {'page': 61, 'source': './mh_docs/masterigrandview.pdf'}\\nContent: NHỮNG LÝ DO KHIẾN MASTERI GRAND VIEW \\nTRỞ THÀNH LỰA CHỌN HÀNG ĐẦU\\n1.\\n2.\\n3.\\n4.\\n5.\\n6.\\nTỌA LẠC TRONG KHU ĐÔ THỊ 117.4HA –\\nTHE GLOBAL CITY –\\nQUỸ ĐẤT VÀNG TẠI P. AN PHÚ\\nLÀ SIÊU PHẨM CAO TẦNG ĐẦU \\nTIÊN \\nTẠI TRUNG TÂM MỚI\\nVỊ TRÍ KIM CƯƠNG TẠI GIAO \\nĐIỂM ĐA SẮC MÀU\\nĐƯỢC PHÁT TRIỂN BỞI CÁC \\nTÊN TUỔI HÀNG ĐẦU THẾ GIỚI\\nTHỜI ĐIỂM VÀNG ĐỂ SỞ HỮU \\nNHỮNG CĂN HỘ ĐẦU TIÊN TẠI THE \\nGLOBAL CITY\\nTHỪA HƯỞNG TOÀN BỘ HỆ TIỆN \\nÍCH ĐỈNH CAO CỦA \\nTHE GLOBAL CITY\\n7.\\n8.\\nSỞ HỮU LOẠI HÌNH 4PN CỰC KHAN \\nHIẾM TRÊN THỊ TRƯỜNG\\nMỖI SÀN CHỈ 8CĂN\\n\\nSource: {'page': 15, 'source': './mh_docs/masterigrandview.pdf'}\\nContent: “MỘT SIÊU PHẨM CAO TẦNG \\nTHUỘC \\nMASTERI COLLECTION\\nNGAY TẠI TRUNG TÂM MỚI”\\n\\nSource: {'page': 15, 'source': './mh_docs/masterigrandview.pdf'}\\nContent: “MỘT SIÊU PHẨM CAO TẦNG \\nTHUỘC \\nMASTERI COLLECTION\\nNGAY TẠI TRUNG TÂM MỚI”\", name='retrieve', id='b5172295-85c3-48c2-9629-79a0074ec787', tool_call_id='call_maSs1AfWt6dC7uFmBSyQK2aD', artifact=[Document(metadata={'page': 61, 'source': './mh_docs/masterigrandview.pdf'}, page_content='NHỮNG LÝ DO KHIẾN MASTERI GRAND VIEW \\nTRỞ THÀNH LỰA CHỌN HÀNG ĐẦU\\n1.\\n2.\\n3.\\n4.\\n5.\\n6.\\nTỌA LẠC TRONG KHU ĐÔ THỊ 117.4HA –\\nTHE GLOBAL CITY –\\nQUỸ ĐẤT VÀNG TẠI P. AN PHÚ\\nLÀ SIÊU PHẨM CAO TẦNG ĐẦU \\nTIÊN \\nTẠI TRUNG TÂM MỚI\\nVỊ TRÍ KIM CƯƠNG TẠI GIAO \\nĐIỂM ĐA SẮC MÀU\\nĐƯỢC PHÁT TRIỂN BỞI CÁC \\nTÊN TUỔI HÀNG ĐẦU THẾ GIỚI\\nTHỜI ĐIỂM VÀNG ĐỂ SỞ HỮU \\nNHỮNG CĂN HỘ ĐẦU TIÊN TẠI THE \\nGLOBAL CITY\\nTHỪA HƯỞNG TOÀN BỘ HỆ TIỆN \\nÍCH ĐỈNH CAO CỦA \\nTHE GLOBAL CITY\\n7.\\n8.\\nSỞ HỮU LOẠI HÌNH 4PN CỰC KHAN \\nHIẾM TRÊN THỊ TRƯỜNG\\nMỖI SÀN CHỈ 8CĂN'), Document(metadata={'page': 61, 'source': './mh_docs/masterigrandview.pdf'}, page_content='NHỮNG LÝ DO KHIẾN MASTERI GRAND VIEW \\nTRỞ THÀNH LỰA CHỌN HÀNG ĐẦU\\n1.\\n2.\\n3.\\n4.\\n5.\\n6.\\nTỌA LẠC TRONG KHU ĐÔ THỊ 117.4HA –\\nTHE GLOBAL CITY –\\nQUỸ ĐẤT VÀNG TẠI P. AN PHÚ\\nLÀ SIÊU PHẨM CAO TẦNG ĐẦU \\nTIÊN \\nTẠI TRUNG TÂM MỚI\\nVỊ TRÍ KIM CƯƠNG TẠI GIAO \\nĐIỂM ĐA SẮC MÀU\\nĐƯỢC PHÁT TRIỂN BỞI CÁC \\nTÊN TUỔI HÀNG ĐẦU THẾ GIỚI\\nTHỜI ĐIỂM VÀNG ĐỂ SỞ HỮU \\nNHỮNG CĂN HỘ ĐẦU TIÊN TẠI THE \\nGLOBAL CITY\\nTHỪA HƯỞNG TOÀN BỘ HỆ TIỆN \\nÍCH ĐỈNH CAO CỦA \\nTHE GLOBAL CITY\\n7.\\n8.\\nSỞ HỮU LOẠI HÌNH 4PN CỰC KHAN \\nHIẾM TRÊN THỊ TRƯỜNG\\nMỖI SÀN CHỈ 8CĂN'), Document(metadata={'page': 61, 'source': './mh_docs/masterigrandview.pdf'}, page_content='NHỮNG LÝ DO KHIẾN MASTERI GRAND VIEW \\nTRỞ THÀNH LỰA CHỌN HÀNG ĐẦU\\n1.\\n2.\\n3.\\n4.\\n5.\\n6.\\nTỌA LẠC TRONG KHU ĐÔ THỊ 117.4HA –\\nTHE GLOBAL CITY –\\nQUỸ ĐẤT VÀNG TẠI P. AN PHÚ\\nLÀ SIÊU PHẨM CAO TẦNG ĐẦU \\nTIÊN \\nTẠI TRUNG TÂM MỚI\\nVỊ TRÍ KIM CƯƠNG TẠI GIAO \\nĐIỂM ĐA SẮC MÀU\\nĐƯỢC PHÁT TRIỂN BỞI CÁC \\nTÊN TUỔI HÀNG ĐẦU THẾ GIỚI\\nTHỜI ĐIỂM VÀNG ĐỂ SỞ HỮU \\nNHỮNG CĂN HỘ ĐẦU TIÊN TẠI THE \\nGLOBAL CITY\\nTHỪA HƯỞNG TOÀN BỘ HỆ TIỆN \\nÍCH ĐỈNH CAO CỦA \\nTHE GLOBAL CITY\\n7.\\n8.\\nSỞ HỮU LOẠI HÌNH 4PN CỰC KHAN \\nHIẾM TRÊN THỊ TRƯỜNG\\nMỖI SÀN CHỈ 8CĂN'), Document(metadata={'page': 15, 'source': './mh_docs/masterigrandview.pdf'}, page_content='“MỘT SIÊU PHẨM CAO TẦNG \\nTHUỘC \\nMASTERI COLLECTION\\nNGAY TẠI TRUNG TÂM MỚI”'), Document(metadata={'page': 15, 'source': './mh_docs/masterigrandview.pdf'}, page_content='“MỘT SIÊU PHẨM CAO TẦNG \\nTHUỘC \\nMASTERI COLLECTION\\nNGAY TẠI TRUNG TÂM MỚI”')])]}\n",
      "Không tìm thấy thông tin trong tài liệu.\n"
     ]
    }
   ],
   "source": [
    "# Execute\n",
    "config = {\"configurable\": {\"thread_id\": \"abc123\"}}\n",
    "messages = [\n",
    "    {\"role\": \"user\", \"content\": \"bàn giao\"}\n",
    "]\n",
    "response = await graph.ainvoke({\"messages\": messages},config=config)\n",
    "print(response[\"messages\"][-1].content)"
   ]
  },
  {
   "cell_type": "code",
   "execution_count": null,
   "id": "d0df179a-17d8-4bf6-bfa5-18c8984f4ff4",
   "metadata": {},
   "outputs": [],
   "source": []
  },
  {
   "cell_type": "code",
   "execution_count": null,
   "id": "84ed5ec8-8cce-42b3-8158-87942e8ff855",
   "metadata": {},
   "outputs": [],
   "source": []
  }
 ],
 "metadata": {
  "kernelspec": {
   "display_name": "Python 3 (ipykernel)",
   "language": "python",
   "name": "python3"
  },
  "language_info": {
   "codemirror_mode": {
    "name": "ipython",
    "version": 3
   },
   "file_extension": ".py",
   "mimetype": "text/x-python",
   "name": "python",
   "nbconvert_exporter": "python",
   "pygments_lexer": "ipython3",
   "version": "3.11.10"
  }
 },
 "nbformat": 4,
 "nbformat_minor": 5
}
