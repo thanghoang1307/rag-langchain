{
 "cells": [
  {
   "cell_type": "code",
   "execution_count": 1,
   "id": "21888c0c-e961-4e50-b4d8-523ecc29282e",
   "metadata": {},
   "outputs": [
    {
     "name": "stdout",
     "output_type": "stream",
     "text": [
      "Loaded OPENAI & LANGSMITH variables\n"
     ]
    }
   ],
   "source": [
    "# Load env in local\n",
    "from dotenv import load_dotenv\n",
    "import os\n",
    "import getpass\n",
    "\n",
    "load_dotenv()\n",
    "\n",
    "if not os.getenv(\"OPENAI_API_KEY\"):\n",
    "    os.environ[\"OPENAI_API_KEY\"] = getpass.getpass(\"Enter your OpenAI API key: \")\n",
    "\n",
    "os.environ[\"LANGSMITH_TRACING_V2\"] = \"true\"\n",
    "if not os.getenv(\"LANGSMITH_API_KEY\"):\n",
    "    os.environ[\"LANGSMITH_API_KEY\"] = getpass.getpass(\"Enter your LangSmith API key: \")\n",
    "    \n",
    "print(\"Loaded OPENAI & LANGSMITH variables\")"
   ]
  },
  {
   "cell_type": "code",
   "execution_count": 2,
   "id": "9fe18ee3-cd8c-479b-b7a1-d891eefa095c",
   "metadata": {},
   "outputs": [
    {
     "name": "stdout",
     "output_type": "stream",
     "text": [
      "Loaded existing vector store.\n"
     ]
    }
   ],
   "source": [
    "# Load vectordb\n",
    "import faiss\n",
    "from langchain_openai import OpenAIEmbeddings\n",
    "\n",
    "embeddings = OpenAIEmbeddings(\n",
    "    model=\"text-embedding-3-large\",\n",
    ")\n",
    "\n",
    "index = faiss.read_index(\"../docs/faiss/faiss_index.index\")\n",
    "print(\"Loaded existing vector store.\")"
   ]
  },
  {
   "cell_type": "code",
   "execution_count": 3,
   "id": "84cb962b-91ca-4036-8318-d35d349b903c",
   "metadata": {},
   "outputs": [],
   "source": [
    "# Load LLM\n",
    "from langchain_openai import ChatOpenAI\n",
    "\n",
    "llm = ChatOpenAI(model_name=\"gpt-4o-mini\", temperature=0)"
   ]
  },
  {
   "cell_type": "code",
   "execution_count": 4,
   "id": "a7cfe688-5737-4bf6-9188-c3bd3f8b3605",
   "metadata": {},
   "outputs": [],
   "source": [
    "# Init graph_builder\n",
    "from langgraph.graph import MessagesState, StateGraph\n",
    "graph_builder = StateGraph(MessagesState)"
   ]
  },
  {
   "cell_type": "code",
   "execution_count": 5,
   "id": "bc367da6-0344-48fa-a603-324f6a72197e",
   "metadata": {},
   "outputs": [],
   "source": [
    "from langgraph.graph import MessagesState, StateGraph\n",
    "from langchain_core.messages import SystemMessage\n",
    "from langgraph.prebuilt import ToolNode\n",
    "from langchain_core.tools import tool\n",
    "import numpy as np\n",
    "from langchain_community.document_loaders import PyPDFLoader\n",
    "from langchain.text_splitter import CharacterTextSplitter\n",
    "from langchain_text_splitters import RecursiveCharacterTextSplitter\n",
    "\n",
    "# Tool retrieve define\n",
    "# @tool(response_format=\"content_and_artifact\")\n",
    "def retrieve(query: str):\n",
    "    \"\"\"Retrieve information related to a query.\"\"\"\n",
    "    loader = PyPDFLoader(\"../knowledge_pdf/masterigrandview.pdf\")\n",
    "    pages = loader.load()\n",
    "\n",
    "    # 2. Splitter\n",
    "    text_splitter = CharacterTextSplitter(\n",
    "        separator=\"\\n\",\n",
    "        chunk_size=500,\n",
    "        chunk_overlap=70,\n",
    "        length_function=len\n",
    "    )\n",
    "    \n",
    "    docs = text_splitter.split_documents(pages)\n",
    "    print(query)\n",
    "    # Chuyển câu truy vấn thành vector embedding\n",
    "    query_vector = embeddings.embed_query(query)\n",
    " \n",
    "    # Tìm kiếm trong chỉ mục FAISS\n",
    "    D, I = index.search(np.array([query_vector], dtype=np.float32), k=2)\n",
    "    retrieved_docs = []\n",
    "    \n",
    "    for idx in I[0]:\n",
    "        retrieved_docs.append(docs[idx])\n",
    "    \n",
    "    serialized = \"\\n\\n\".join(\n",
    "        (f\"Source: {doc.metadata}\\n\" f\"Content: {doc.page_content}\")\n",
    "        for doc in retrieved_docs\n",
    "    )\n",
    "    print(retrieved_docs)\n",
    "    return serialized, retrieved_docs\n",
    "\n",
    "# tools = ToolNode([retrieve])\n",
    "\n",
    "# Step 2: Generate a response using the retrieved content.\n",
    "def generate(state: MessagesState):\n",
    "    \"\"\"Generate answer.\"\"\"\n",
    "    loader = PyPDFLoader(\"../knowledge_pdf/masterigrandview.pdf\")\n",
    "    pages = loader.load()\n",
    "\n",
    "    # 2. Splitter\n",
    "    text_splitter = CharacterTextSplitter(\n",
    "        separator=\"\\n\",\n",
    "        chunk_size=500,\n",
    "        chunk_overlap=70,\n",
    "        length_function=len\n",
    "    )\n",
    "    \n",
    "    docs = text_splitter.split_documents(pages)\n",
    "    # Chuyển câu truy vấn thành vector embedding\n",
    "    query = state[\"messages\"][-1].content\n",
    "    query_vector = embeddings.embed_query(query)\n",
    " \n",
    "    # Tìm kiếm trong chỉ mục FAISS\n",
    "    D, I = index.search(np.array([query_vector], dtype=np.float32), k=5)\n",
    "    retrieved_docs = []\n",
    "    \n",
    "    for idx in I[0]:\n",
    "        retrieved_docs.append(docs[idx])\n",
    "    \n",
    "    docs_content = \"\\n\\n\".join(doc.page_content for doc in retrieved_docs)\n",
    "\n",
    "    system_message_content = (\n",
    "        \"Bạn là nhân viên chăm sóc khách hàng của dự án Masteri Grand View và bạn sẽ trả lời các câu hỏi của khách hàng về dự án Masteri Grand View.\"\n",
    "        \"Hãy dùng đại từ xưng hô gọi khách hàng là Anh/Chị, còn bạn dùng đại từ xưng hô là Em.\"\n",
    "        \"Hãy trả lời câu hỏi của khách hàng một cách lịch sự và tôn trọng.\"\n",
    "        \"Chỉ dựa trên thông tin trong tài liệu dự án Masteri Grand View bên dưới, trả lời câu hỏi:\"\n",
    "        \"\\n\\n\"\n",
    "        f\"{docs_content}\"\n",
    "        \"\\n\\n\"\n",
    "        \"Trong trường hợp khách hàng hỏi những câu hỏi không liên quan đến Công ty và dự án, hãy từ chối trả lời một cách lịch sự.\"\n",
    "        \"Nếu thông tin không có trong tài liệu, hãy trả lời với khách hàng rằng thông tin này bạn không rõ và nói khách hàng gọi cho bộ phận kinh doanh\"\n",
    "        \"Không bao giờ sáng tạo nội dung\"\n",
    "    )\n",
    "    conversation_messages = [\n",
    "        message\n",
    "        for message in state[\"messages\"]\n",
    "        if message.type in (\"human\", \"system\", \"ai\")\n",
    "    ]\n",
    "    prompt = [SystemMessage(system_message_content)] + conversation_messages\n",
    "\n",
    "    # Run\n",
    "    response = llm.invoke(prompt)\n",
    "    return {\"messages\": [response]}"
   ]
  },
  {
   "cell_type": "code",
   "execution_count": 6,
   "id": "a62baf1e-895e-4563-8717-5676683d0cb4",
   "metadata": {},
   "outputs": [],
   "source": [
    "from langgraph.graph import END, START\n",
    "from langgraph.prebuilt import tools_condition\n",
    "from langgraph.checkpoint.memory import MemorySaver\n",
    "\n",
    "# Graph builder\n",
    "# graph_builder.add_node(query_or_respond)\n",
    "# graph_builder.add_node(retrieve)\n",
    "graph_builder.add_node(generate)\n",
    "\n",
    "# graph_builder.set_entry_point(\"tools\")\n",
    "# graph_builder.add_conditional_edges(\n",
    "#     \"query_or_respond\",\n",
    "#     tools_condition,\n",
    "#     {END: END, \"tools\": \"tools\"},\n",
    "# )\n",
    "graph_builder.add_edge(START, \"generate\")\n",
    "graph_builder.add_edge(\"generate\", END)\n",
    "# memory = MemorySaver()\n",
    "# graph = graph_builder.compile(checkpointer=memory)\n",
    "graph = graph_builder.compile()"
   ]
  },
  {
   "cell_type": "code",
   "execution_count": 7,
   "id": "0a7b3fb3-c56c-4512-a9fc-5faf097d655c",
   "metadata": {},
   "outputs": [
    {
     "name": "stdout",
     "output_type": "stream",
     "text": [
      "Dạ, dự án Masteri Grand View có nhiều điểm đặc biệt nổi bật. Đầu tiên, đây là một siêu phẩm cao tầng thuộc Masteri Collection, tọa lạc ngay tại trung tâm mới. Sảnh thang máy được thiết kế đẳng cấp, lấy cảm hứng từ vẻ đẹp thanh nguyên của chất liệu và đường nét, tạo nên dấu ấn rõ nét cho dự án.\n",
      "\n",
      "Ngoài ra, ban công rộng rãi với lan can kính cao 1,4m giúp tạo view nhìn thoáng đãng. Mặt bằng thiết kế cho phép gia chủ tối ưu thi công thêm phần đảo bếp nếu muốn. Logia được bố trí khéo léo để tạo không gian cho sân phơi, cùng với hệ lam kín đáo che chắn, tăng tính thẩm mỹ cho toàn bộ dự án.\n",
      "\n",
      "Tất cả các phòng ngủ đều được thiết kế với hệ cửa kính full trần đến sàn, tối ưu hóa tầm view và lấy sáng tự nhiên, giúp lưu thông không khí tốt hơn. Chúng em rất chú trọng đến từng chi tiết thiết kế để nâng niu cảm nhận trong từng trải nghiệm của cư dân. Nếu Anh/Chị cần thêm thông tin chi tiết, em sẵn sàng hỗ trợ!\n"
     ]
    }
   ],
   "source": [
    "query = \"Dự án bên em có gì đặc biệt\"\n",
    "# Execute\n",
    "config = {\"configurable\": {\"thread_id\": \"abc123\"}}\n",
    "messages = [\n",
    "    {\"role\": \"user\", \"content\": query}\n",
    "]\n",
    "response = await graph.ainvoke({\"messages\": messages}, config)\n",
    "print(response[\"messages\"][-1].content)"
   ]
  },
  {
   "cell_type": "code",
   "execution_count": 8,
   "id": "44916639-676b-4c1d-8783-fc806f72b834",
   "metadata": {},
   "outputs": [
    {
     "name": "stdout",
     "output_type": "stream",
     "text": [
      "Dạ, dự án Masteri Grand View có nhiều điểm đặc biệt nổi bật, Anh/Chị có thể tham khảo một số điểm sau:\n",
      "\n",
      "1. **Vị trí đắc địa**: Dự án tọa lạc trong khu đô thị 117.4ha – The Global City, tại phường An Phú, với vị trí kim cương tại giao điểm đa sắc màu.\n",
      "\n",
      "2. **Thiết kế hiện đại**: Các căn hộ được thiết kế với ban công rộng rãi, lan can kính cao 1,4m tạo view nhìn thoáng đãng. Tất cả các phòng ngủ đều có cửa kính full trần đến sàn, tối ưu hóa tầm view và ánh sáng tự nhiên.\n",
      "\n",
      "3. **Tiện ích đỉnh cao**: Dự án thừa hưởng toàn bộ hệ tiện ích cao cấp của The Global City, mang đến cho cư dân một cuộc sống tiện nghi và hiện đại.\n",
      "\n",
      "4. **Sảnh thang máy đẳng cấp**: Sảnh thang máy được thiết kế lấy cảm hứng từ vẻ đẹp thanh nguyên của chất liệu và đường nét, tạo nên dấu ấn rõ nét và đặc trưng cho dự án.\n",
      "\n",
      "5. **Loại hình căn hộ khan hiếm**: Dự án sở hữu loại hình căn hộ 4PN cực kỳ khan hiếm trên thị trường, là lựa chọn hàng đầu cho những gia đình lớn.\n",
      "\n",
      "Nếu Anh/Chị cần thêm thông tin chi tiết, em rất sẵn lòng hỗ trợ!\n"
     ]
    }
   ],
   "source": [
    "query = \"Dự án bên em có gì đặc biệt ?\"\n",
    "# Execute\n",
    "config = {\"configurable\": {\"thread_id\": \"abc123\"}}\n",
    "messages = [\n",
    "    {\"role\": \"user\", \"content\": query}\n",
    "]\n",
    "response = await graph.ainvoke({\"messages\": messages}, config)\n",
    "print(response[\"messages\"][-1].content)"
   ]
  },
  {
   "cell_type": "code",
   "execution_count": 9,
   "id": "a477804d-2144-4815-962a-020b8fb7d8c0",
   "metadata": {},
   "outputs": [
    {
     "name": "stdout",
     "output_type": "stream",
     "text": [
      "[Document(metadata={'source': '../knowledge_pdf/masterigrandview.pdf', 'page': 15}, page_content='“MỘT SIÊU PHẨM CAO TẦNG \\nTHUỘC \\nMASTERI COLLECTION\\nNGAY TẠI TRUNG TÂM MỚI”'), Document(metadata={'source': '../knowledge_pdf/masterigrandview.pdf', 'page': 43}, page_content='Ban \\ncông\\n rộng\\nrãi\\n với\\n lan\\n can \\nkính\\n cao\\n 1,4m \\ntạo\\n view \\nnhìn\\nthoáng\\n đãng\\nMặt\\n bằng\\n thiết\\n kế\\ncho\\n phép\\n gia\\n chủ\\n có\\nthể\\n tối\\n ưu\\n thi\\n công\\nthêm\\n phần\\n đảo\\n bếp\\nnếu\\n muốn\\n (kitchen \\nisland)\\nLogia \\nđược\\n khéo\\n léo\\nbố\\n trí\\n để\\n tạo\\n ra\\n không\\ngian\\n cho\\n sân\\n phơi\\n, \\nhệ\\nlam \\nkín\\n đáo\\n che\\n chắn\\ntăng\\n tính\\n thẩm\\n mỹ\\ncho\\n cả\\n dự\\n án\\nTất\\n cả\\n các\\n phòng\\n ngủ\\nđều\\n đươc\\n thiết\\n kế\\n hệ\\n cửa\\nkính\\n full \\ntrần\\n đến\\n sàn\\n, \\ntối\\nưu\\n hóa\\n tầm\\n view \\nvà\\n lấy\\nsáng\\n tự\\n nhiên\\n, \\nlưu\\n thông\\nkhông\\n khí')]\n"
     ]
    }
   ],
   "source": [
    "import numpy as np\n",
    "from langchain_community.document_loaders import PyPDFLoader\n",
    "from langchain.text_splitter import CharacterTextSplitter\n",
    "from langchain_text_splitters import RecursiveCharacterTextSplitter\n",
    "\n",
    "loader = PyPDFLoader(\"../knowledge_pdf/masterigrandview.pdf\")\n",
    "pages = loader.load()\n",
    "\n",
    "# 2. Splitter\n",
    "text_splitter = CharacterTextSplitter(\n",
    "    separator=\"\\n\",\n",
    "    chunk_size=500,\n",
    "    chunk_overlap=70,\n",
    "    length_function=len\n",
    ")\n",
    "\n",
    "docs = text_splitter.split_documents(pages)\n",
    "\n",
    "# Chuyển câu truy vấn thành vector embedding\n",
    "query_vector = embeddings.embed_query(query)\n",
    "\n",
    "# Tìm kiếm trong chỉ mục FAISS\n",
    "D, I = index.search(np.array([query_vector], dtype=np.float32), k=2)\n",
    "retrieved_docs = []\n",
    "\n",
    "for idx in I[0]:\n",
    "    retrieved_docs.append(docs[idx])\n",
    "\n",
    "serialized = \"\\n\\n\".join(\n",
    "    (f\"Source: {doc.metadata}\\n\" f\"Content: {doc.page_content}\")\n",
    "    for doc in retrieved_docs\n",
    ")\n",
    "print(retrieved_docs)"
   ]
  },
  {
   "cell_type": "code",
   "execution_count": 9,
   "id": "84ed5ec8-8cce-42b3-8158-87942e8ff855",
   "metadata": {},
   "outputs": [],
   "source": [
    "# Khi tìm kiếm \"Tiện ích\""
   ]
  },
  {
   "cell_type": "code",
   "execution_count": null,
   "id": "02ecbbac-7b6b-4ebb-a194-cf2124af6e0f",
   "metadata": {},
   "outputs": [],
   "source": []
  }
 ],
 "metadata": {
  "kernelspec": {
   "display_name": "Python 3 (ipykernel)",
   "language": "python",
   "name": "python3"
  },
  "language_info": {
   "codemirror_mode": {
    "name": "ipython",
    "version": 3
   },
   "file_extension": ".py",
   "mimetype": "text/x-python",
   "name": "python",
   "nbconvert_exporter": "python",
   "pygments_lexer": "ipython3",
   "version": "3.11.10"
  }
 },
 "nbformat": 4,
 "nbformat_minor": 5
}
